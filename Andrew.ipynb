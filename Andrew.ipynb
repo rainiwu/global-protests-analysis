{
 "cells": [
  {
   "cell_type": "code",
   "execution_count": 1,
   "metadata": {},
   "outputs": [],
   "source": [
    "import numpy as np\n",
    "import pandas as pd\n",
    "pd.set_option('display.max_columns', None)\n",
    "import seaborn as sns\n",
    "sns.set()\n",
    "sns.set_context('talk')\n",
    "sns.set_theme(style = 'whitegrid')\n",
    "#sns.set_palette('coolwarm')\n",
    "import matplotlib.pyplot as plt\n",
    "from itertools import product"
   ]
  },
  {
   "cell_type": "code",
   "execution_count": 2,
   "metadata": {},
   "outputs": [],
   "source": [
    "df = pd.read_csv('main_data.csv')"
   ]
  },
  {
   "cell_type": "code",
   "execution_count": 3,
   "metadata": {},
   "outputs": [
    {
     "data": {
      "text/html": [
       "<div>\n",
       "<style scoped>\n",
       "    .dataframe tbody tr th:only-of-type {\n",
       "        vertical-align: middle;\n",
       "    }\n",
       "\n",
       "    .dataframe tbody tr th {\n",
       "        vertical-align: top;\n",
       "    }\n",
       "\n",
       "    .dataframe thead th {\n",
       "        text-align: right;\n",
       "    }\n",
       "</style>\n",
       "<table border=\"1\" class=\"dataframe\">\n",
       "  <thead>\n",
       "    <tr style=\"text-align: right;\">\n",
       "      <th></th>\n",
       "      <th>protest</th>\n",
       "      <th>protesterviolence</th>\n",
       "      <th>reasons_labor</th>\n",
       "      <th>reasons_social</th>\n",
       "      <th>reasons_land</th>\n",
       "      <th>reasons_removal</th>\n",
       "      <th>reasons_political</th>\n",
       "      <th>reasons_price</th>\n",
       "      <th>reasons_policebrutality</th>\n",
       "    </tr>\n",
       "  </thead>\n",
       "  <tbody>\n",
       "    <tr>\n",
       "      <th>0</th>\n",
       "      <td>0</td>\n",
       "      <td>0</td>\n",
       "      <td>0</td>\n",
       "      <td>0</td>\n",
       "      <td>0</td>\n",
       "      <td>0</td>\n",
       "      <td>0</td>\n",
       "      <td>0</td>\n",
       "      <td>0</td>\n",
       "    </tr>\n",
       "    <tr>\n",
       "      <th>1</th>\n",
       "      <td>1</td>\n",
       "      <td>0</td>\n",
       "      <td>0</td>\n",
       "      <td>0</td>\n",
       "      <td>0</td>\n",
       "      <td>0</td>\n",
       "      <td>0</td>\n",
       "      <td>0</td>\n",
       "      <td>1</td>\n",
       "    </tr>\n",
       "    <tr>\n",
       "      <th>2</th>\n",
       "      <td>0</td>\n",
       "      <td>0</td>\n",
       "      <td>0</td>\n",
       "      <td>0</td>\n",
       "      <td>0</td>\n",
       "      <td>0</td>\n",
       "      <td>0</td>\n",
       "      <td>0</td>\n",
       "      <td>0</td>\n",
       "    </tr>\n",
       "    <tr>\n",
       "      <th>3</th>\n",
       "      <td>0</td>\n",
       "      <td>0</td>\n",
       "      <td>0</td>\n",
       "      <td>0</td>\n",
       "      <td>0</td>\n",
       "      <td>0</td>\n",
       "      <td>0</td>\n",
       "      <td>0</td>\n",
       "      <td>0</td>\n",
       "    </tr>\n",
       "    <tr>\n",
       "      <th>4</th>\n",
       "      <td>0</td>\n",
       "      <td>0</td>\n",
       "      <td>0</td>\n",
       "      <td>0</td>\n",
       "      <td>0</td>\n",
       "      <td>0</td>\n",
       "      <td>0</td>\n",
       "      <td>0</td>\n",
       "      <td>0</td>\n",
       "    </tr>\n",
       "  </tbody>\n",
       "</table>\n",
       "</div>"
      ],
      "text/plain": [
       "   protest  protesterviolence  reasons_labor  reasons_social  reasons_land  \\\n",
       "0        0                  0              0               0             0   \n",
       "1        1                  0              0               0             0   \n",
       "2        0                  0              0               0             0   \n",
       "3        0                  0              0               0             0   \n",
       "4        0                  0              0               0             0   \n",
       "\n",
       "   reasons_removal  reasons_political  reasons_price  reasons_policebrutality  \n",
       "0                0                  0              0                        0  \n",
       "1                0                  0              0                        1  \n",
       "2                0                  0              0                        0  \n",
       "3                0                  0              0                        0  \n",
       "4                0                  0              0                        0  "
      ]
     },
     "execution_count": 3,
     "metadata": {},
     "output_type": "execute_result"
    }
   ],
   "source": [
    "df = df[['protest', 'protesterviolence', 'reasons_labor', 'reasons_social', 'reasons_land', 'reasons_removal',\n",
    "         'reasons_political', 'reasons_price', 'reasons_policebrutality']]\n",
    "df.head()"
   ]
  },
  {
   "cell_type": "code",
   "execution_count": 4,
   "metadata": {},
   "outputs": [],
   "source": [
    "# Creating list for iterable and names for new df\n",
    "reasons = ['reasons_labor', 'reasons_social', 'reasons_land', 'reasons_removal', 'reasons_political',\n",
    "           'reasons_price', 'reasons_policebrutality']\n",
    "# Initializing empty df\n",
    "df_temp = pd.DataFrame()"
   ]
  },
  {
   "cell_type": "code",
   "execution_count": 5,
   "metadata": {},
   "outputs": [
    {
     "data": {
      "text/html": [
       "<div>\n",
       "<style scoped>\n",
       "    .dataframe tbody tr th:only-of-type {\n",
       "        vertical-align: middle;\n",
       "    }\n",
       "\n",
       "    .dataframe tbody tr th {\n",
       "        vertical-align: top;\n",
       "    }\n",
       "\n",
       "    .dataframe thead th {\n",
       "        text-align: right;\n",
       "    }\n",
       "</style>\n",
       "<table border=\"1\" class=\"dataframe\">\n",
       "  <thead>\n",
       "    <tr style=\"text-align: right;\">\n",
       "      <th></th>\n",
       "      <th>reasons_labor</th>\n",
       "      <th>reasons_social</th>\n",
       "      <th>reasons_land</th>\n",
       "      <th>reasons_removal</th>\n",
       "      <th>reasons_political</th>\n",
       "      <th>reasons_price</th>\n",
       "      <th>reasons_policebrutality</th>\n",
       "    </tr>\n",
       "  </thead>\n",
       "  <tbody>\n",
       "    <tr>\n",
       "      <th>0</th>\n",
       "      <td>23</td>\n",
       "      <td>15</td>\n",
       "      <td>28</td>\n",
       "      <td>29</td>\n",
       "      <td>26</td>\n",
       "      <td>34</td>\n",
       "      <td>41</td>\n",
       "    </tr>\n",
       "  </tbody>\n",
       "</table>\n",
       "</div>"
      ],
      "text/plain": [
       "   reasons_labor  reasons_social  reasons_land  reasons_removal  \\\n",
       "0             23              15            28               29   \n",
       "\n",
       "   reasons_political  reasons_price  reasons_policebrutality  \n",
       "0                 26             34                       41  "
      ]
     },
     "execution_count": 5,
     "metadata": {},
     "output_type": "execute_result"
    }
   ],
   "source": [
    "# Calculates the percentage of violent protests for each reason\n",
    "for reason in reasons:\n",
    "    df_temp[reason] = [round((sum(df['protesterviolence'] & df[reason] > 0))/(sum(df[reason]))*100)]\n",
    "    \n",
    "df_temp.head()"
   ]
  },
  {
   "cell_type": "code",
   "execution_count": 6,
   "metadata": {},
   "outputs": [
    {
     "data": {
      "text/html": [
       "<div>\n",
       "<style scoped>\n",
       "    .dataframe tbody tr th:only-of-type {\n",
       "        vertical-align: middle;\n",
       "    }\n",
       "\n",
       "    .dataframe tbody tr th {\n",
       "        vertical-align: top;\n",
       "    }\n",
       "\n",
       "    .dataframe thead th {\n",
       "        text-align: right;\n",
       "    }\n",
       "</style>\n",
       "<table border=\"1\" class=\"dataframe\">\n",
       "  <thead>\n",
       "    <tr style=\"text-align: right;\">\n",
       "      <th></th>\n",
       "      <th>percentage</th>\n",
       "    </tr>\n",
       "  </thead>\n",
       "  <tbody>\n",
       "    <tr>\n",
       "      <th>labor rights</th>\n",
       "      <td>23</td>\n",
       "    </tr>\n",
       "    <tr>\n",
       "      <th>social reforms</th>\n",
       "      <td>15</td>\n",
       "    </tr>\n",
       "    <tr>\n",
       "      <th>property</th>\n",
       "      <td>28</td>\n",
       "    </tr>\n",
       "    <tr>\n",
       "      <th>anti-authoritarian</th>\n",
       "      <td>29</td>\n",
       "    </tr>\n",
       "    <tr>\n",
       "      <th>law &amp; politics</th>\n",
       "      <td>26</td>\n",
       "    </tr>\n",
       "    <tr>\n",
       "      <th>inflation</th>\n",
       "      <td>34</td>\n",
       "    </tr>\n",
       "    <tr>\n",
       "      <th>police brutality</th>\n",
       "      <td>41</td>\n",
       "    </tr>\n",
       "  </tbody>\n",
       "</table>\n",
       "</div>"
      ],
      "text/plain": [
       "                    percentage\n",
       "labor rights                23\n",
       "social reforms              15\n",
       "property                    28\n",
       "anti-authoritarian          29\n",
       "law & politics              26\n",
       "inflation                   34\n",
       "police brutality            41"
      ]
     },
     "execution_count": 6,
     "metadata": {},
     "output_type": "execute_result"
    }
   ],
   "source": [
    "# Reformatting and renaming the df\n",
    "df_percentage = df_temp.T\n",
    "df_percentage.rename(index = {'reasons_social':'social reforms',\n",
    "                              'reasons_policebrutality':'police brutality',\n",
    "                              'reasons_land':'property',\n",
    "                              'reasons_political':'law & politics',\n",
    "                              'reasons_labor':'labor rights',\n",
    "                              'reasons_price':'inflation',\n",
    "                              'reasons_removal':'anti-authoritarian'},\n",
    "                    columns = {0:'percentage'},\n",
    "                    inplace = True)\n",
    "df_percentage"
   ]
  },
  {
   "cell_type": "code",
   "execution_count": 7,
   "metadata": {},
   "outputs": [
    {
     "data": {
      "image/png": "[encoded data removed]",
      "text/plain": [
       "<Figure size 864x288 with 1 Axes>"
      ]
     },
     "metadata": {
      "needs_background": "light"
     },
     "output_type": "display_data"
    }
   ],
   "source": [
    "# Plotting dimensions\n",
    "fig_dims = (12, 4)\n",
    "fig, ax = plt.subplots(figsize = fig_dims)\n",
    "\n",
    "# Plotting\n",
    "values = df_percentage['percentage']\n",
    "clrs = ['#6a8bef' if (x == min(values)) else 'gray' if (x < max(values)) else '#e36c55' for x in values]\n",
    "\n",
    "violence_plot = sns.barplot(x = df_percentage.index, y = 'percentage', data = df_percentage, ax = ax, palette = clrs)\n",
    "\n",
    "for p in violence_plot.patches:\n",
    "    height = int(p.get_height())\n",
    "    ax.annotate('{}'.format(height) + '%', xy = (p.get_x() + p.get_width() / 2, height), xytext = (0, 2), \n",
    "                textcoords = 'offset points', ha = 'center', va = 'bottom')\n",
    "                           \n",
    "plt.xlabel('Reason', size = 14)\n",
    "plt.ylabel('')\n",
    "plt.title('Percentage of Violent Protests For Each Reason', size = 16)\n",
    "plt.grid(False)\n",
    "sns.despine(left=True)\n",
    "violence_plot.set(yticks=[])\n",
    "\n",
    "None"
   ]
  },
  {
   "cell_type": "code",
   "execution_count": 8,
   "metadata": {},
   "outputs": [],
   "source": [
    "# Processing the df\n",
    "df = pd.read_csv('main_data.csv')\n",
    "df = df[['protest', 'protesterviolence', 'reasons_labor', 'reasons_social', 'reasons_land', 'reasons_removal',\n",
    "         'reasons_political', 'reasons_price', 'reasons_policebrutality']]\n",
    "\n",
    "# Calculates percentage of violent protests for each reason\n",
    "reasons = ['reasons_labor', 'reasons_social', 'reasons_land', 'reasons_removal', 'reasons_political',\n",
    "           'reasons_price', 'reasons_policebrutality']\n",
    "df_temp = pd.DataFrame()\n",
    "for reason in reasons:\n",
    "    df_temp[reason] = [round((sum(df['protesterviolence'] & df[reason] > 0))/(sum(df[reason]))*100)]\n",
    "    \n",
    "# Reformats and renames the df\n",
    "df_percentage = df_temp.T\n",
    "df_percentage.rename(index = {'reasons_social':'social reforms',\n",
    "                              'reasons_policebrutality':'police brutality',\n",
    "                              'reasons_land':'property',\n",
    "                              'reasons_political':'law & politics',\n",
    "                              'reasons_labor':'labor rights',\n",
    "                              'reasons_price':'inflation',\n",
    "                              'reasons_removal':'anti-authoritarian'},\n",
    "                    columns = {0:'percentage'},\n",
    "                    inplace = True)"
   ]
  },
  {
   "cell_type": "code",
   "execution_count": 9,
   "metadata": {},
   "outputs": [
    {
     "data": {
      "image/png": "[encoded data removed]",
      "text/plain": [
       "<Figure size 864x288 with 1 Axes>"
      ]
     },
     "metadata": {
      "needs_background": "light"
     },
     "output_type": "display_data"
    }
   ],
   "source": [
    "# Plotting dimensions\n",
    "fig_dims = (12, 4)\n",
    "fig, ax = plt.subplots(figsize = fig_dims)\n",
    "\n",
    "# Plotting\n",
    "values = df_percentage['percentage']\n",
    "clrs = ['#6a8bef' if (x == min(values)) else 'gray' if (x < max(values)) else '#e36c55' for x in values]\n",
    "\n",
    "violence_plot = sns.barplot(x = df_percentage.index, y = 'percentage', data = df_percentage, ax = ax, palette = clrs)\n",
    "\n",
    "for p in violence_plot.patches:\n",
    "    height = int(p.get_height())\n",
    "    ax.annotate('{}'.format(height) + '%', xy = (p.get_x() + p.get_width() / 2, height), xytext = (0, 2), \n",
    "                textcoords = 'offset points', ha = 'center', va = 'bottom')\n",
    "                           \n",
    "plt.xlabel('Reason', size = 14)\n",
    "plt.ylabel('')\n",
    "plt.title('Percentage of Violent Protests For Each Reason', size = 16)\n",
    "plt.grid(False)\n",
    "sns.despine(left=True)\n",
    "violence_plot.set(yticks=[])\n",
    "\n",
    "None"
   ]
  },
  {
   "cell_type": "code",
   "execution_count": null,
   "metadata": {},
   "outputs": [],
   "source": []
  }
 ],
 "metadata": {
  "kernelspec": {
   "display_name": "Python 3",
   "language": "python",
   "name": "python3"
  },
  "language_info": {
   "codemirror_mode": {
    "name": "ipython",
    "version": 3
   },
   "file_extension": ".py",
   "mimetype": "text/x-python",
   "name": "python",
   "nbconvert_exporter": "python",
   "pygments_lexer": "ipython3",
   "version": "3.7.4"
  }
 },
 "nbformat": 4,
 "nbformat_minor": 2
}
